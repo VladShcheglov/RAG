{
 "cells": [
  {
   "cell_type": "markdown",
   "metadata": {},
   "source": [
    "ИМПОРТ НУЖНЫХ БИБЛИОТЕК"
   ]
  },
  {
   "cell_type": "code",
   "execution_count": 56,
   "metadata": {},
   "outputs": [],
   "source": [
    "from transformers import AutoTokenizer\n",
    "from sentence_transformers import SentenceTransformer\n",
    "from docx import Document\n",
    "import os\n",
    "import numpy as np\n",
    "import faiss\n",
    "import chromadb\n",
    "from chromadb import Client"
   ]
  },
  {
   "cell_type": "markdown",
   "metadata": {},
   "source": [
    "РАЗБИВАЕМ БОЛЬШОЙ ТЕКСТОВЫЙ ДОКУМЕНТ НА ЧАНКИ ДЛИНОЙ 512"
   ]
  },
  {
   "cell_type": "code",
   "execution_count": null,
   "metadata": {},
   "outputs": [
    {
     "name": "stderr",
     "output_type": "stream",
     "text": [
      "Token indices sequence length is longer than the specified maximum sequence length for this model (4063 > 512). Running this sequence through the model will result in indexing errors\n"
     ]
    },
    {
     "data": {
      "text/plain": [
       "662"
      ]
     },
     "execution_count": 67,
     "metadata": {},
     "output_type": "execute_result"
    }
   ],
   "source": [
    "\n",
    "# Загружаем токенизатор (используем BERT)\n",
    "tokenizer = AutoTokenizer.from_pretrained(\"bert-base-uncased\")\n",
    "\n",
    "def chunk_text(text, max_tokens=512):\n",
    "    tokens = tokenizer.encode(text, add_special_tokens=False)\n",
    "    chunks = [tokens[i:i+max_tokens] for i in range(0, len(tokens), max_tokens)]\n",
    "    return [tokenizer.decode(chunk, skip_special_tokens=True) for chunk in chunks]\n",
    "\n",
    "\n",
    "# Загрузка документов\n",
    "documents = []\n",
    "folder_path = \"documents\"\n",
    "for filename in os.listdir(folder_path):\n",
    "    if filename.endswith('.docx'):\n",
    "        file_path = os.path.join(folder_path, filename)\n",
    "        doc = Document(file_path)\n",
    "        text = \"\\n\".join([paragraph.text for paragraph in doc.paragraphs if paragraph.text.strip()])\n",
    "        if text:\n",
    "            documents.append(text)\n",
    "\n",
    "# Разбиваем на чанки\n",
    "chunks = []\n",
    "for doc in documents:\n",
    "    chunks.extend(chunk_text(doc))\n",
    "\n",
    "\n",
    "\n"
   ]
  },
  {
   "cell_type": "code",
   "execution_count": 58,
   "metadata": {},
   "outputs": [],
   "source": [
    "embedder = SentenceTransformer('all-MiniLM-L6-v2')\n",
    "    \n",
    "\n",
    "def chunks_to_emb(chunks):\n",
    "    passages = []\n",
    "    for chunk in chunks:\n",
    "        passage = embedder.encode(chunk)\n",
    "        passages.append(passage)\n",
    "    return passages\n",
    "    \n",
    "passages = chunks_to_emb(chunks)\n",
    "passages_arr = np.array(passages)\n",
    "dimension = passages_arr.shape[1]\n",
    "index = faiss.IndexFlatL2(dimension)\n",
    "\n",
    "# Добавление эмбеддингов в индекс\n",
    "for passage in passages_arr:\n",
    "    # Reshape the passage to be a 2D array with shape (1, dimension)\n",
    "    passage_reshaped = passage.reshape(1, -1)\n",
    "    index.add(passage_reshaped)"
   ]
  },
  {
   "cell_type": "code",
   "execution_count": 68,
   "metadata": {},
   "outputs": [],
   "source": [
    "# Поиск документов\n",
    "def retrieve_documents(query, k=8):\n",
    "    query_embedding = embedder.encode([query])\n",
    "    distances, indices = index.search(query_embedding, k)\n",
    "    return [chunks[i] for i in indices[0]]"
   ]
  },
  {
   "cell_type": "code",
   "execution_count": 69,
   "metadata": {},
   "outputs": [],
   "source": [
    "from transformers import T5ForConditionalGeneration, T5Tokenizer\n",
    "\n",
    "\n",
    "# Загрузка генеративной модели (например, T5)\n",
    "generator = T5ForConditionalGeneration.from_pretrained(\"t5-small\")\n",
    "generator_tokenizer = T5Tokenizer.from_pretrained(\"t5-small\")\n",
    "\n",
    "# Функция для генерации ответа\n",
    "def generate_answer(query, context):\n",
    "    input_text = f\"question: {query} context: {context}\"\n",
    "    input_ids = generator_tokenizer(input_text, return_tensors=\"pt\", max_length=512, truncation=True).input_ids\n",
    "    outputs = generator.generate(input_ids, max_length=150, num_beams=5, early_stopping=True)\n",
    "    return generator_tokenizer.decode(outputs[0], skip_special_tokens=True)\n"
   ]
  },
  {
   "cell_type": "code",
   "execution_count": 73,
   "metadata": {},
   "outputs": [
    {
     "name": "stdout",
     "output_type": "stream",
     "text": [
      "Ответ:традиионнми алоритмами \n"
     ]
    }
   ],
   "source": [
    "query = \"Виды SLAM\"\n",
    "\n",
    "retrieved_docs = retrieve_documents(query)\n",
    "context = \" \".join(retrieved_docs)\n",
    "\n",
    "answer = generate_answer(query,context)\n",
    "print(f\"Ответ:{answer} \")"
   ]
  },
  {
   "cell_type": "code",
   "execution_count": 79,
   "metadata": {},
   "outputs": [
    {
     "name": "stderr",
     "output_type": "stream",
     "text": [
      "Token indices sequence length is longer than the specified maximum sequence length for this model (4063 > 512). Running this sequence through the model will result in indexing errors\n",
      "Token indices sequence length is longer than the specified maximum sequence length for this model (4207 > 512). Running this sequence through the model will result in indexing errors\n"
     ]
    },
    {
     "name": "stdout",
     "output_type": "stream",
     "text": [
      "Ответ: аи ар ааи\n"
     ]
    }
   ],
   "source": [
    "import os\n",
    "from docx import Document\n",
    "\n",
    "# Используем библиотеку для работы с файлами .docx\n",
    "from docx import Document\n",
    "\n",
    "# Импортируем необходимые библиотеки для обработки текста и создания эмбеддингов\n",
    "from sentence_transformers import SentenceTransformer\n",
    "import numpy as np\n",
    "import faiss\n",
    "\n",
    "# Загрузим модель для токенизации и эмбеддинга\n",
    "tokenizer = AutoTokenizer.from_pretrained(\"bert-base-uncased\")\n",
    "embedder = SentenceTransformer('all-MiniLM-L6-v2')\n",
    "\n",
    "# Функция для разбивки документа на части по количеству токенов\n",
    "def chunk_text(text, max_tokens=512):\n",
    "    tokens = tokenizer.encode(text, add_special_tokens=False)\n",
    "    chunks = [tokens[i:i + max_tokens] for i in range(0, len(tokens), max_tokens)]\n",
    "    return [tokenizer.decode(chunk) for chunk in chunks]\n",
    "\n",
    "# Считываем документы из папки\n",
    "documents = []\n",
    "folder_path = \"documents\"\n",
    "for filename in os.listdir(folder_path):\n",
    "    if filename.endswith('.docx'):\n",
    "        file_path = os.path.join(folder_path, filename)\n",
    "        doc = Document(file_path)\n",
    "        text = \"\\n\".join([paragraph.text for paragraph in doc.paragraphs])\n",
    "        documents.append(text)\n",
    "\n",
    "# Разбиваем каждый документ на фрагменты по 512 токенов\n",
    "chunks = []\n",
    "for document in documents:\n",
    "    chunks.extend(chunk_text(document))\n",
    "\n",
    "# Создаем эмбеддинги для каждого фрагмента\n",
    "passages = []\n",
    "for chunk in chunks:\n",
    "    passage = embedder.encode(chunk)\n",
    "    passages.append(passage)\n",
    "\n",
    "# Преобразуем список эмбеддингов в массив NumPy\n",
    "passages_arr = np.array(passages)\n",
    "dimension = passages_arr.shape[1]\n",
    "\n",
    "# Создадим индекс для поиска ближайших соседей\n",
    "index = faiss.IndexFlatL2(dimension)\n",
    "\n",
    "# Добавляем эмбеддинги в индекс\n",
    "for passage in passages_arr:\n",
    "    # Reshape the passage to be a 2D array with shape (1, dimension)\n",
    "    passage_reshaped = passage.reshape(1, -1)\n",
    "    index.add(passage_reshaped)\n",
    "\n",
    "# Функция для поиска ближайших документов по запросу\n",
    "def retrieve_documents(query, k=9):\n",
    "    query_embedding = embedder.encode([query])\n",
    "    distances, indices = index.search(query_embedding, k)\n",
    "    return [chunks[i] for i in indices[0]]\n",
    "\n",
    "# Загрузка генеративной модели (например, T5)\n",
    "from transformers import T5ForConditionalGeneration, T5Tokenizer\n",
    "\n",
    "generator = T5ForConditionalGeneration.from_pretrained(\"t5-small\")\n",
    "generator_tokenizer = T5Tokenizer.from_pretrained(\"t5-small\")\n",
    "\n",
    "# Функция для генерации ответа\n",
    "def generate_answer(query, context):\n",
    "    input_text = f\"question: {query} context: {context}\"\n",
    "    input_ids = generator_tokenizer(input_text, return_tensors=\"pt\").input_ids\n",
    "    outputs = generator.generate(input_ids)\n",
    "    return generator_tokenizer.decode(outputs[0], skip_special_tokens=True)\n",
    "\n",
    "# Пример использования\n",
    "query = \"Что такое SLAM?\"\n",
    "\n",
    "retrieved_docs = retrieve_documents(query)\n",
    "context = \" \".join(retrieved_docs)\n",
    "\n",
    "answer = generate_answer(query, context)\n",
    "print(f\"Ответ: {answer}\")"
   ]
  },
  {
   "cell_type": "code",
   "execution_count": null,
   "metadata": {},
   "outputs": [
    {
     "name": "stdout",
     "output_type": "stream",
     "text": [
      "Ответ: ододе среда раиваетс на с\n",
      "Ответ: ододе среда раиваетс\n",
      "Ответ: еросетва реалиаи\n",
      "Ответ: wf\n",
      "Ответ: Wefweg\n",
      "Ответ: wegwegwevwevewv\n",
      "Ответ: ис.1 лоритм Feature - based SL\n",
      "Ответ: ис.1 лоритм Feature - based SL\n",
      "Ответ: ис.1 лоритм Feature - based SL\n",
      "Ответ: ис.1 лоритм Feature - based SL\n",
      "Ответ: ис.2\n",
      "Ответ: ис.1\n",
      "Ответ: \n",
      "Ответ: \n",
      "Ответ: \n"
     ]
    }
   ],
   "source": [
    "from docx import Document\n",
    "import os\n",
    "from sentence_transformers import SentenceTransformer\n",
    "import numpy as np\n",
    "import faiss\n",
    "from transformers import T5ForConditionalGeneration, T5Tokenizer\n",
    "\n",
    "# Чтение документа\n",
    "document = Document('documents/article_b382e22c.docx')  # замените example.docx на ваш файл\n",
    "text = '\\n'.join(paragraph.text for paragraph in document.paragraphs)\n",
    "\n",
    "# Разделение текста на предложения\n",
    "sentences = text.split('\\n')\n",
    "\n",
    "# Создание эмбеддингов для предложений\n",
    "model = SentenceTransformer('all-MiniLM-L6-v2')\n",
    "embeddings = model.encode(sentences)\n",
    "\n",
    "# Сохраняем эмбеддинги и соответствующие им предложения\n",
    "data = list(zip(embeddings, sentences))\n",
    "\n",
    "# Создание индекса\n",
    "d = embeddings[0].shape[0]  # размерность эмбеддингов\n",
    "index = faiss.IndexFlatIP(d)  # используем косинусную меру близости\n",
    "index.add(np.array([emb for emb, _ in data]))\n",
    "\n",
    "def search_relevant_sentences(query, k=5):\n",
    "    query_embedding = model.encode([query])[0]\n",
    "    _, idx = index.search(np.array([query_embedding]), k)\n",
    "    relevant_sentences = [data[i][1] for i in idx[0]]\n",
    "    return relevant_sentences\n",
    "\n",
    "# Загрузка генератора\n",
    "generator_model = T5ForConditionalGeneration.from_pretrained(\"t5-small\")\n",
    "generator_tokenizer = T5Tokenizer.from_pretrained(\"t5-small\")\n",
    "\n",
    "def generate_response(question, context):\n",
    "    input_text = f\"question: {question} context: {context}\"\n",
    "    inputs = generator_tokenizer(input_text, return_tensors='pt', padding=True)\n",
    "    output = generator_model.generate(**inputs)\n",
    "    response = generator_tokenizer.decode(output[0], skip_special_tokens=True)\n",
    "    return response\n",
    "\n",
    "if __name__ == \"__main__\":\n",
    "    while True:\n",
    "        question = input(\"Введите ваш вопрос: \")\n",
    "        \n",
    "        # Поиск релевантных предложений\n",
    "        relevant_context = search_relevant_sentences(question)\n",
    "        \n",
    "        # Формирование контекста\n",
    "        context = ' '.join(relevant_context)\n",
    "        \n",
    "        # Генерация ответа\n",
    "        answer = generate_response(question, context)\n",
    "        \n",
    "        print(f\"Ответ: {answer}\")"
   ]
  },
  {
   "cell_type": "code",
   "execution_count": null,
   "metadata": {},
   "outputs": [],
   "source": []
  }
 ],
 "metadata": {
  "kernelspec": {
   "display_name": ".venv",
   "language": "python",
   "name": "python3"
  },
  "language_info": {
   "codemirror_mode": {
    "name": "ipython",
    "version": 3
   },
   "file_extension": ".py",
   "mimetype": "text/x-python",
   "name": "python",
   "nbconvert_exporter": "python",
   "pygments_lexer": "ipython3",
   "version": "3.11.4"
  }
 },
 "nbformat": 4,
 "nbformat_minor": 2
}
